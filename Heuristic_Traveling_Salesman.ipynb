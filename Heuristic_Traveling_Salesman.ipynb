{
 "cells": [
  {
   "cell_type": "markdown",
   "id": "8a7377a3-0452-4758-bfd4-9e8e3f5eb940",
   "metadata": {},
   "source": [
    "# Problem Statement"
   ]
  },
  {
   "attachments": {},
   "cell_type": "markdown",
   "id": "582934d5-0611-4119-82bc-f076fca279f8",
   "metadata": {},
   "source": [
    "**Goal: Given a list of countries and OD matrix, minimize the distance traveled through all of those countries using Hill Climbing and Simulated Annealing.**"
   ]
  },
  {
   "cell_type": "code",
   "execution_count": 258,
   "id": "e15e8b6c-4fbc-41b7-a4ab-48deeb335e83",
   "metadata": {},
   "outputs": [],
   "source": [
    "import random\n",
    "import matplotlib.pyplot as plt\n",
    "import numpy as np\n",
    "import math\n",
    "import pandas as pd \n",
    "import time"
   ]
  },
  {
   "cell_type": "markdown",
   "id": "29cc6f12-1f8f-4475-82dd-c92c74ec4dd5",
   "metadata": {},
   "source": [
    "## Part 1. Create a database"
   ]
  },
  {
   "cell_type": "code",
   "execution_count": 187,
   "id": "ef45c379-924f-47dc-9562-98c0ce7d7aef",
   "metadata": {},
   "outputs": [],
   "source": [
    "class Distance (object):\n",
    "  def __init__(self,country, othercountries, distance):\n",
    "      self.country = country\n",
    "      self.othercountries = othercountries\n",
    "      self.distance = distance"
   ]
  },
  {
   "cell_type": "code",
   "execution_count": 188,
   "id": "854f4abd-1db9-456d-b392-97a705c42046",
   "metadata": {},
   "outputs": [],
   "source": [
    "def findcompnum(mymap, country):\n",
    "    for i in range (0,len(mymap)):\n",
    "        if mymap[i].country==country:\n",
    "            return(i)\n",
    "    return(-1)"
   ]
  },
  {
   "cell_type": "code",
   "execution_count": 203,
   "id": "f400451c-5ea7-4d48-8034-f83137e58c50",
   "metadata": {},
   "outputs": [],
   "source": [
    "def finddistance(mymap, countrya, countryb):\n",
    "    a = findcompnum(mymap, countrya)\n",
    "    b = mymap[a].othercountries.index(countryb)\n",
    "    distance = mymap[a].distance[b]\n",
    "    return distance"
   ]
  },
  {
   "cell_type": "code",
   "execution_count": 190,
   "id": "527d10df-4916-48b5-880e-b93ad2c6fc18",
   "metadata": {},
   "outputs": [],
   "source": [
    "def readmymapdata(mymap, path):\n",
    "    mymapsheet   = pd.read_excel(path, sheet_name = 0, header=None)\n",
    "    for i in range(0, len(mymapsheet)):\n",
    "        countryA = mymapsheet[0][i]\n",
    "        compnum = findcompnum(mymap, countryA)\n",
    "        distance = []\n",
    "        othercountries = []\n",
    "        countryB = mymapsheet[1][i]\n",
    "        distAtoB = mymapsheet[2][i]\n",
    "        if compnum == -1:\n",
    "            othercountries.append(countryB)\n",
    "            distance.append(distAtoB)\n",
    "            mymap.append(Distance(countryA,othercountries,distance))\n",
    "\n",
    "        else:\n",
    "            mymap[compnum].othercountries.append(countryB)\n",
    "            mymap[compnum].distance.append(distAtoB)\n",
    "            "
   ]
  },
  {
   "cell_type": "code",
   "execution_count": 195,
   "id": "88f25425-e0cd-4ef3-8934-af168ecda086",
   "metadata": {},
   "outputs": [],
   "source": [
    "def createcountries(mymap,startcountry):\n",
    "    countrylist = []\n",
    "    for i in range(0, len(mymap)):\n",
    "        if mymap[i].country != startcountry:\n",
    "            countrylist.append(mymap[i].country)\n",
    "    return countrylist"
   ]
  },
  {
   "cell_type": "code",
   "execution_count": 352,
   "id": "18ace7ff-8c8b-4fa8-9d8d-61fed93ab404",
   "metadata": {},
   "outputs": [],
   "source": [
    "# # test\n",
    "# mymapsheet   = pd.read_excel('Country6Distances.xlsx', sheet_name = 0, header=None)\n",
    "# path = 'Country6Distances.xlsx'\n",
    "# mymap = []\n",
    "# readmymapdata(mymap, path)\n",
    "# for i in range(0, len(mymap)):\n",
    "#     print(mymap[i].country)\n",
    "#     print(mymap[i].othercountries)\n",
    "#     print(mymap[i].distance)\n",
    "#     print('\\n')"
   ]
  },
  {
   "cell_type": "markdown",
   "id": "8f0ba3e1-c785-4cbf-a364-f432a761b3f4",
   "metadata": {},
   "source": [
    "## Part 2. Create a random solution to the traveling salesman problem. \n",
    "\n",
    "Set a seed so that you always start with the same solution. Once you have your solution, remove the seed so the rest is random."
   ]
  },
  {
   "cell_type": "code",
   "execution_count": 196,
   "id": "f5d41813-9448-4dd0-8b97-47672bdebc4d",
   "metadata": {},
   "outputs": [],
   "source": [
    "def createsolution(mymap,startcountry):    \n",
    "    destinations = createcountries(mymap,startcountry)\n",
    "    solution = destinations[:] # make a copy\n",
    "    random.shuffle(solution)\n",
    "    return solution\n",
    "    \n",
    "# createsolution(mymap,startcountry='BRA')"
   ]
  },
  {
   "cell_type": "markdown",
   "id": "bfd44018-bf06-44c0-8271-bb623832237b",
   "metadata": {},
   "source": [
    "## Part 3. Objective function for TSP\n",
    "Create a function to determine the objective value of any solution to the TSP\n",
    "\n",
    "Note: For some heuristics, you may need to create a feasibility checker like we did for the knapsack, but for the TSP you do not need one."
   ]
  },
  {
   "cell_type": "code",
   "execution_count": 197,
   "id": "2d8f684d-ac25-4ac1-b468-2a6ebaa35131",
   "metadata": {},
   "outputs": [],
   "source": [
    "def getz(mymap,startcountry,solution):\n",
    "    z = 0\n",
    "    for i in range(0,len(solution)):\n",
    "        if i == 0:\n",
    "            z += finddistance(mymap,startcountry, solution[i])\n",
    "        else:\n",
    "            z += finddistance(mymap,solution[i-1], solution[i])\n",
    "    z += finddistance(mymap,solution[-1], startcountry)\n",
    "    return z"
   ]
  },
  {
   "cell_type": "code",
   "execution_count": 344,
   "id": "be9626e2-07cc-49d3-a1d8-7d3adfbce464",
   "metadata": {},
   "outputs": [],
   "source": [
    "# # test\n",
    "# startcountry = 'USA'\n",
    "# solution = createsolution(mymap,startcountry)\n",
    "# z = getz(mymap,startcountry,solution)\n",
    "# print(solution)\n",
    "# print(z)"
   ]
  },
  {
   "cell_type": "markdown",
   "id": "bd9b5db1-4112-41e9-9195-77a4d79616c3",
   "metadata": {},
   "source": [
    "## Part 4. Create a neighborhood\n",
    "Create a two swap neighborhood or a second different neighborhood that has a bigger solution space. E.g. 3 swap, 4 swap, cross paths or something else."
   ]
  },
  {
   "cell_type": "code",
   "execution_count": 350,
   "id": "f95fbe64-827d-4aec-a51b-67632a025424",
   "metadata": {},
   "outputs": [],
   "source": [
    "def findneighborhood(cursol, swap=3):\n",
    "    '''\n",
    "    swap: number of countries that get swapped. Default value is 3. Other value is 2. \n",
    "    '''\n",
    "    if swap == 3:\n",
    "        swapcountries = random.sample(cursol, k = 3) # randomly pick 3 countries out of the cursol\n",
    "        neighsol = cursol[:]\n",
    "\n",
    "        loc0 = neighsol.index(swapcountries[0])\n",
    "        loc1 = neighsol.index(swapcountries[1])\n",
    "        loc2 = neighsol.index(swapcountries[2])\n",
    "        \n",
    "        neighsol[loc0] = swapcountries[2]\n",
    "        neighsol[loc1] = swapcountries[0]\n",
    "        neighsol[loc2] = swapcountries[1]\n",
    "    if swap == 2:\n",
    "        swapcountries = random.sample(cursol, k = 2)\n",
    "        neighsol = cursol[:]\n",
    "    \n",
    "        loc0 = neighsol.index(swapcountries[0])\n",
    "        loc1 = neighsol.index(swapcountries[1])\n",
    "\n",
    "        neighsol[loc0] = swapcountries[1]\n",
    "        neighsol[loc1] = swapcountries[0]\n",
    "        \n",
    "    return neighsol\n",
    "\n",
    "# neighsol = findneighborhood(solution)\n",
    "# print(solution)\n",
    "# print(neighsol)"
   ]
  },
  {
   "cell_type": "code",
   "execution_count": 347,
   "id": "a1dd1fe3-67fb-492f-8694-ea844c96f8b5",
   "metadata": {},
   "outputs": [],
   "source": [
    "# # test\n",
    "# z = getz(mymap,startcountry,neighsol)\n",
    "# print(z)"
   ]
  },
  {
   "cell_type": "markdown",
   "id": "f137bfee-85bb-4ed6-af86-9e65b2eb4003",
   "metadata": {},
   "source": [
    "## Part 5. Build a hill climbing algorithm.  \n",
    "You can assume that you are at a local optimal solution if you have performed 1500 swaps with no improvement.  Undergraduates just run 2 swap. Grad students run both of your neighborhoods and provide the solutions, include the running time if it is longer than 10 seconds."
   ]
  },
  {
   "cell_type": "code",
   "execution_count": 348,
   "id": "25ca31a7-9dc1-4496-bed6-f019b556e008",
   "metadata": {
    "scrolled": true
   },
   "outputs": [],
   "source": [
    "\n",
    "def hillclimbing(maxtries=1500, runs=100, swap = 3, runstatus = False, graph = False):\n",
    "    # Start time\n",
    "    start_time = time.time()\n",
    "    \n",
    "    # get data\n",
    "    path = 'CountryDistances.xlsx'\n",
    "    mymap = []\n",
    "    readmymapdata(mymap, path)\n",
    "    startcountry = 'USA'\n",
    "\n",
    "    zbest = 1000000\n",
    "    bestol = []\n",
    "    \n",
    "    for run in range(0,runs): \n",
    "        tries=0\n",
    "        totaltries=0\n",
    "        graphz=[]\n",
    "        \n",
    "        cursol = createsolution(mymap,startcountry)\n",
    "        zcur = getz(mymap,startcountry,cursol)\n",
    "        \n",
    "        while tries < maxtries:\n",
    "            tries += 1\n",
    "            totaltries += 1\n",
    "            graphz.append(zcur)\n",
    "            neighsol = findneighborhood(cursol, swap)\n",
    "            zneigh = getz(mymap,startcountry,neighsol)\n",
    "            if zneigh < zcur:\n",
    "                zcur = zneigh\n",
    "                cursol = neighsol[:] \n",
    "                tries = 0\n",
    "                if zcur < zbest:\n",
    "                    zbest = zcur\n",
    "                    bestsol = cursol[:]\n",
    "                    if runstatus == True:\n",
    "                        print ('run', run, 'iter ', totaltries, ' zbest ', zbest)\n",
    "    if graph == True:\n",
    "        fig=plt.figure()\n",
    "        ax=fig.add_subplot(111)\n",
    "        ax.plot(graphz, color = 'r',label='Existing')\n",
    "        ax.legend(loc='best')\n",
    "        ax.set_xlabel('Iteration')\n",
    "        ax.set_ylabel('Z Value')\n",
    "        ax.set_title('Hill Climbing')\n",
    "        #plt.ion()\n",
    "        plt.show()\n",
    "    \n",
    "    # End time\n",
    "    end_time = time.time()\n",
    "    \n",
    "    # Calculate the elapsed time\n",
    "    elapsed_time = end_time - start_time\n",
    "    print(f'Hill climbing with {swap}-swap neighborhood for {maxtries} tries.')\n",
    "    print(f'Execution time: {elapsed_time:.2f} seconds \\n')\n",
    "    print('Best solution using Hill Climbing: \\n',bestsol)\n",
    "    print('Z best using Hill Climbing: ',zbest,'\\n')"
   ]
  },
  {
   "cell_type": "markdown",
   "id": "9376f660-fb29-4817-b998-1eb4b6c91777",
   "metadata": {},
   "source": [
    "### Part 5.1 Run hill climbing"
   ]
  },
  {
   "cell_type": "markdown",
   "id": "25ec8254-c0f1-44b8-b413-c137bed796b6",
   "metadata": {},
   "source": [
    "#### 5.1.1 Hill climbing 3-Swap Neighborhood"
   ]
  },
  {
   "cell_type": "code",
   "execution_count": 322,
   "id": "a823dec8-695a-4257-844c-4006a9032513",
   "metadata": {},
   "outputs": [
    {
     "data": {
      "image/png": "[encoded data removed]",
      "text/plain": [
       "<Figure size 640x480 with 1 Axes>"
      ]
     },
     "metadata": {},
     "output_type": "display_data"
    },
    {
     "name": "stdout",
     "output_type": "stream",
     "text": [
      "Hill climbing with 3-swap neighborhood for 1500 tries.\n",
      "Execution time: 36.73 seconds \n",
      "\n",
      "Best solution using Hill Climbing: \n",
      " ['ICE', 'NOR', 'POL', 'GMY', 'CZE', 'SWD', 'FIN', 'EST', 'HUN', 'AUS', 'GRC', 'SWZ', 'SPN', 'POR', 'UK', 'FRN', 'IRE', 'CAN', 'BHM', 'HAI', 'VEN', 'TRI', 'PER', 'BOL', 'PAR', 'ARG', 'BRA', 'COL', 'ECU', 'PAN', 'COS', 'HON', 'GUA', 'MEX', 'BLZ', 'CUB']\n",
      "Z best using Hill Climbing:  30541 \n",
      "\n"
     ]
    }
   ],
   "source": [
    "hillclimbing(maxtries=1500, runs=100, swap=3, runstatus = False, graph = True)"
   ]
  },
  {
   "cell_type": "markdown",
   "id": "9038b1f9-171a-4e8f-b051-d28c7c3320d3",
   "metadata": {},
   "source": [
    "#### 5.1.1 Hill climbing 2-Swap Neighborhoood"
   ]
  },
  {
   "cell_type": "code",
   "execution_count": 323,
   "id": "bb39c0a8-b516-4f1a-a426-798c9c93af39",
   "metadata": {},
   "outputs": [
    {
     "data": {
      "image/png": "[encoded data removed]",
      "text/plain": [
       "<Figure size 640x480 with 1 Axes>"
      ]
     },
     "metadata": {},
     "output_type": "display_data"
    },
    {
     "name": "stdout",
     "output_type": "stream",
     "text": [
      "Hill climbing with 2-swap neighborhood for 1500 tries.\n",
      "Execution time: 22.90 seconds \n",
      "\n",
      "Best solution using Hill Climbing: \n",
      " ['MEX', 'GUA', 'BLZ', 'HON', 'COS', 'PAN', 'COL', 'VEN', 'TRI', 'HAI', 'BHM', 'CAN', 'ICE', 'IRE', 'UK', 'FRN', 'NOR', 'SWD', 'FIN', 'EST', 'POL', 'GMY', 'CZE', 'AUS', 'HUN', 'GRC', 'SWZ', 'SPN', 'POR', 'BRA', 'PAR', 'ARG', 'BOL', 'PER', 'ECU', 'CUB']\n",
      "Z best using Hill Climbing:  28987 \n",
      "\n"
     ]
    }
   ],
   "source": [
    "hillclimbing(maxtries=1500, runs=100, swap=2, runstatus = False, graph = True)"
   ]
  },
  {
   "cell_type": "markdown",
   "id": "edb5bd29-10d5-4c4e-9ab5-d36ab9ee96ce",
   "metadata": {},
   "source": [
    "### Comments\n",
    "- 2-swap is better than 3-swap in both time and z best. hmmm why."
   ]
  },
  {
   "cell_type": "markdown",
   "id": "0210caac-4f56-42b3-ae9c-123d170f2f59",
   "metadata": {},
   "source": [
    "## Part 6. Build a simulated annealing algorithm\n"
   ]
  },
  {
   "cell_type": "code",
   "execution_count": 351,
   "id": "ec9060e4-6561-47e2-a5ed-9ed88199e8aa",
   "metadata": {
    "scrolled": true
   },
   "outputs": [],
   "source": [
    "def annealing(maxiter=100000, swap=3, runstatus = False, graph = False):\n",
    "    '''\n",
    "    runstatus: prints out progress but makes the results look kinda long\n",
    "    graph: shows a graph at the end\n",
    "    '''\n",
    "    # get data\n",
    "    path = 'CountryDistances.xlsx'\n",
    "    mymap = []\n",
    "    readmymapdata(mymap, path)\n",
    "    startcountry = 'USA'\n",
    "    \n",
    "    # Start time\n",
    "    start_time = time.time()\n",
    "    \n",
    "    # maxiter=10000000\n",
    "    bestsol =[]\n",
    "    zbest = 1000000\n",
    "    \n",
    "    # tries=0\n",
    "    totaltries=0\n",
    "    graphz=[]\n",
    "    graphbest=[]\n",
    "\n",
    "    cursol = createsolution(mymap,startcountry)\n",
    "    zcur = getz(mymap,startcountry,cursol)\n",
    "    \n",
    "    for itera in range (0,maxiter):\n",
    "        if itera%100000==0 and runstatus == True:\n",
    "            print(itera, zbest)\n",
    "        # tries+=1\n",
    "        totaltries+=1\n",
    "        \n",
    "        if totaltries >=100:\n",
    "            graphz.append(zcur)\n",
    "            graphbest.append(zbest)\n",
    "        neighsol = findneighborhood(cursol,swap)\n",
    "        zneigh = getz(mymap,startcountry,neighsol)\n",
    "        if zneigh < zcur: \n",
    "            zcur = zneigh\n",
    "            cursol = neighsol[:]\n",
    "            # tries = 0\n",
    "            if zcur < zbest:\n",
    "                zbest = zcur\n",
    "                bestsol = cursol[:]\n",
    "                if runstatus == True:\n",
    "                    print ('run', itera, 'iter ', totaltries, ' zbest ', zbest)\n",
    "        else:\n",
    "            if random.random()<.5*pow(math.e,math.log(.02)/maxiter*itera):\n",
    "                zcur=zneigh\n",
    "                cursol = neighsol[:]\n",
    "\n",
    "    if graph == True:\n",
    "        # Make a figure\n",
    "        fig=plt.figure()\n",
    "        #Add 2 different graphs\n",
    "        ax=fig.add_subplot(111)\n",
    "        ax.plot(graphz, color = 'r',label='Existing')\n",
    "        ax.plot(graphbest, color = 'b',label='Best')\n",
    "        ax.legend(loc=\"best\")\n",
    "        ax.set_xlabel('Iteration')\n",
    "        ax.set_ylabel('Z Value')\n",
    "        ax.set_title('Annealing')\n",
    "        #plt.ion()\n",
    "        plt.show()    \n",
    "    \n",
    "    # End time\n",
    "    end_time = time.time()\n",
    "    \n",
    "    # Calculate the elapsed time\n",
    "    elapsed_time = end_time - start_time\n",
    "    print(f'Simulated annealing with {swap}-swap neighborhood for {maxiter} iterations.')\n",
    "    print(f'Execution time: {elapsed_time:.2f} seconds \\n')\n",
    "    print('Best solution using Hill Climbing: \\n',bestsol)\n",
    "    print('Z best using Hill Climbing: ',zbest,'\\n')"
   ]
  },
  {
   "cell_type": "code",
   "execution_count": 349,
   "id": "d598f1f5-0233-43fd-b2b2-770a4c382f09",
   "metadata": {},
   "outputs": [],
   "source": [
    "def annealingwithruns(maxiter=100000, swap=3, runs = 100, runstatus = False, graph = False):\n",
    "    # get data\n",
    "    path = 'CountryDistances.xlsx'\n",
    "    mymap = []\n",
    "    readmymapdata(mymap, path)\n",
    "    startcountry = 'USA'\n",
    "    \n",
    "    # Start time\n",
    "    start_time = time.time()\n",
    "    \n",
    "    bestsol =[]\n",
    "    zbest = 1000000\n",
    "    totaltries=0\n",
    "    graphz=[]\n",
    "    graphbest=[]\n",
    "\n",
    "    for run in range (0,runs):\n",
    "        # random restart in between\n",
    "        cursol = createsolution(mymap,startcountry)\n",
    "        zcur = getz(mymap,startcountry,cursol)\n",
    "        \n",
    "        for itera in range (0,maxiter):\n",
    "            if itera%100000==0 and runstatus == True:\n",
    "                print(itera, zbest)\n",
    "            totaltries+=1\n",
    "            \n",
    "            if totaltries >=1000: # need to do something with the totaltries to get the graph look right?\n",
    "                graphz.append(zcur)\n",
    "                graphbest.append(zbest)\n",
    "            neighsol = findneighborhood(cursol,swap)\n",
    "            zneigh = getz(mymap,startcountry,neighsol)\n",
    "            if zneigh < zcur: \n",
    "                zcur = zneigh\n",
    "                cursol = neighsol[:]\n",
    "                # tries = 0\n",
    "                if zcur < zbest:\n",
    "                    zbest = zcur\n",
    "                    bestsol = cursol[:]\n",
    "                    if runstatus == True:\n",
    "                        print ('run', itera, 'iter ', totaltries, ' zbest ', zbest)\n",
    "            else:\n",
    "                if random.random()<.5*pow(math.e,math.log(.02)/maxiter*itera):\n",
    "                    zcur=zneigh\n",
    "                    cursol = neighsol[:]\n",
    "\n",
    "    if graph == True:\n",
    "        # Make a figure\n",
    "        fig=plt.figure()\n",
    "        #Add 2 different graphs\n",
    "        ax=fig.add_subplot(111)\n",
    "        ax.plot(graphz, color = 'r',label='Existing')\n",
    "        ax.plot(graphbest, color = 'b',label='Best')\n",
    "        ax.legend(loc=\"best\")\n",
    "        ax.set_xlabel('Iteration')\n",
    "        ax.set_ylabel('Z Value')\n",
    "        ax.set_title('Annealing')\n",
    "        #plt.ion()\n",
    "        plt.show()    \n",
    "    \n",
    "    # End time\n",
    "    end_time = time.time()\n",
    "    \n",
    "    # Calculate the elapsed time\n",
    "    elapsed_time = end_time - start_time\n",
    "    print(f'Simulated annealing with {swap}-swap neighborhood for {maxiter} iterations.')\n",
    "    print(f'Execution time: {elapsed_time:.2f} seconds \\n')\n",
    "    print('Best solution using Hill Climbing: \\n',bestsol)\n",
    "    print('Z best using Hill Climbing: ',zbest,'\\n')"
   ]
  },
  {
   "cell_type": "markdown",
   "id": "32e816e0-5861-421b-8a98-0c0d3cf3342b",
   "metadata": {},
   "source": [
    "### Part 6.1 Run simulated annealing"
   ]
  },
  {
   "cell_type": "markdown",
   "id": "a049157a-dd36-4276-9956-d332faa4d7ff",
   "metadata": {},
   "source": [
    "#### Part 6.1.1 2-swap neighborhood, 100,000 iterations."
   ]
  },
  {
   "cell_type": "code",
   "execution_count": 328,
   "id": "2eafc09a-e106-46c0-aa3a-7b3aebd6f922",
   "metadata": {},
   "outputs": [
    {
     "data": {
      "image/png": "[encoded data removed]",
      "text/plain": [
       "<Figure size 640x480 with 1 Axes>"
      ]
     },
     "metadata": {},
     "output_type": "display_data"
    },
    {
     "name": "stdout",
     "output_type": "stream",
     "text": [
      "Simulated annealing with 2-swap neighborhood for 100000 iterations.\n",
      "Execution time: 4.51 seconds \n",
      "\n",
      "Best solution using Hill Climbing: \n",
      " ['GUA', 'COS', 'ECU', 'PER', 'COL', 'PAN', 'HON', 'BLZ', 'BOL', 'ARG', 'PAR', 'BRA', 'HAI', 'CUB', 'CAN', 'ICE', 'EST', 'FIN', 'SWD', 'UK', 'FRN', 'SWZ', 'GMY', 'POL', 'HUN', 'GRC', 'AUS', 'CZE', 'NOR', 'IRE', 'SPN', 'POR', 'TRI', 'VEN', 'BHM', 'MEX']\n",
      "Z best using Hill Climbing:  37190 \n",
      "\n"
     ]
    }
   ],
   "source": [
    "annealing(maxiter=100000,swap=2, runstatus = False, graph = True)"
   ]
  },
  {
   "cell_type": "markdown",
   "id": "8db40a1a-0513-442f-b538-a1caa418b21f",
   "metadata": {},
   "source": [
    "#### Part 6.1.2 3-swap neighborhood, 100,000 iterations."
   ]
  },
  {
   "cell_type": "code",
   "execution_count": 329,
   "id": "62e98965-1579-49e7-99ab-d4ca976927c1",
   "metadata": {},
   "outputs": [
    {
     "data": {
      "image/png": "[encoded data removed]",
      "text/plain": [
       "<Figure size 640x480 with 1 Axes>"
      ]
     },
     "metadata": {},
     "output_type": "display_data"
    },
    {
     "name": "stdout",
     "output_type": "stream",
     "text": [
      "Simulated annealing with 3-swap neighborhood for 100000 iterations.\n",
      "Execution time: 4.58 seconds \n",
      "\n",
      "Best solution using Hill Climbing: \n",
      " ['ECU', 'PER', 'BOL', 'COL', 'BRA', 'PAR', 'ARG', 'HON', 'CUB', 'CAN', 'HAI', 'PAN', 'COS', 'GUA', 'BHM', 'VEN', 'TRI', 'POR', 'IRE', 'UK', 'FRN', 'NOR', 'FIN', 'EST', 'SWD', 'POL', 'HUN', 'AUS', 'GMY', 'CZE', 'SPN', 'SWZ', 'GRC', 'ICE', 'MEX', 'BLZ']\n",
      "Z best using Hill Climbing:  42733 \n",
      "\n"
     ]
    }
   ],
   "source": [
    "annealing(maxiter=100000,swap=3, runstatus = False, graph = True)"
   ]
  },
  {
   "cell_type": "markdown",
   "id": "4ac78145-0b6d-4cd2-9db7-ac22506bafaf",
   "metadata": {},
   "source": [
    "#### Part 6.1.3 2-swap neighborhood, 1,000,000 iterations."
   ]
  },
  {
   "cell_type": "code",
   "execution_count": 331,
   "id": "3a235ec5-2af2-444d-b03a-47a19cdb357d",
   "metadata": {},
   "outputs": [
    {
     "name": "stdout",
     "output_type": "stream",
     "text": [
      "Simulated annealing with 2-swap neighborhood for 1000000 iterations.\n",
      "Execution time: 44.00 seconds \n",
      "\n",
      "Best solution using Hill Climbing: \n",
      " ['CUB', 'COS', 'BHM', 'CAN', 'MEX', 'HON', 'BLZ', 'GUA', 'PAN', 'COL', 'ECU', 'PER', 'BOL', 'PAR', 'ARG', 'BRA', 'VEN', 'TRI', 'HAI', 'IRE', 'UK', 'POR', 'SPN', 'SWZ', 'FRN', 'POL', 'HUN', 'GRC', 'AUS', 'CZE', 'GMY', 'NOR', 'FIN', 'SWD', 'EST', 'ICE']\n",
      "Z best using Hill Climbing:  33687 \n",
      "\n"
     ]
    }
   ],
   "source": [
    "annealing(maxiter=1000000,swap=2, runstatus = False, graph = False)"
   ]
  },
  {
   "cell_type": "markdown",
   "id": "9cca9bae-be84-4651-a9ff-8933c36355f5",
   "metadata": {},
   "source": [
    "#### Part 6.1.4 3-swap neighborhood, 1,000,000 iterations."
   ]
  },
  {
   "cell_type": "code",
   "execution_count": 332,
   "id": "c659d968-2832-4a3e-963e-6f42c3cceb5f",
   "metadata": {},
   "outputs": [
    {
     "name": "stdout",
     "output_type": "stream",
     "text": [
      "Simulated annealing with 3-swap neighborhood for 1000000 iterations.\n",
      "Execution time: 43.89 seconds \n",
      "\n",
      "Best solution using Hill Climbing: \n",
      " ['CUB', 'TRI', 'VEN', 'COL', 'GUA', 'PAN', 'HAI', 'BHM', 'BLZ', 'COS', 'ECU', 'ARG', 'BOL', 'BRA', 'PAR', 'PER', 'HON', 'MEX', 'ICE', 'EST', 'FIN', 'SWD', 'POL', 'HUN', 'GRC', 'SWZ', 'AUS', 'NOR', 'IRE', 'UK', 'SPN', 'POR', 'FRN', 'GMY', 'CZE', 'CAN']\n",
      "Z best using Hill Climbing:  38753 \n",
      "\n"
     ]
    }
   ],
   "source": [
    "annealing(maxiter=1000000,swap=3, runstatus = False, graph = False)"
   ]
  },
  {
   "cell_type": "markdown",
   "id": "8d103731-5f7c-4fd2-966e-ebc2b6441d63",
   "metadata": {},
   "source": [
    "#### Part 6.1.5 2-swap neighborhood, 10,000,000 iterations."
   ]
  },
  {
   "cell_type": "code",
   "execution_count": 333,
   "id": "9d5e70f0-e88f-45c6-9501-234cf3f05545",
   "metadata": {},
   "outputs": [
    {
     "name": "stdout",
     "output_type": "stream",
     "text": [
      "Simulated annealing with 2-swap neighborhood for 10000000 iterations.\n",
      "Execution time: 440.04 seconds \n",
      "\n",
      "Best solution using Hill Climbing: \n",
      " ['VEN', 'TRI', 'BOL', 'BRA', 'PAR', 'ARG', 'PER', 'ECU', 'PAN', 'COL', 'COS', 'HON', 'GUA', 'BLZ', 'HAI', 'BHM', 'MEX', 'CUB', 'CAN', 'UK', 'IRE', 'FRN', 'SWZ', 'GRC', 'GMY', 'NOR', 'EST', 'FIN', 'SWD', 'POL', 'HUN', 'AUS', 'CZE', 'POR', 'SPN', 'ICE']\n",
      "Z best using Hill Climbing:  33929 \n",
      "\n"
     ]
    }
   ],
   "source": [
    "annealing(maxiter=10000000,swap=2, runstatus = False, graph = False)"
   ]
  },
  {
   "cell_type": "markdown",
   "id": "9cd953f8-8dfd-48f3-9654-ffbfe896dd40",
   "metadata": {},
   "source": [
    "#### Part 6.1.6 3-swap neighborhood, 10,000,000 iterations."
   ]
  },
  {
   "cell_type": "code",
   "execution_count": 334,
   "id": "fd6a39d2-a16b-4f7b-8ae1-247f871e76ca",
   "metadata": {},
   "outputs": [
    {
     "name": "stdout",
     "output_type": "stream",
     "text": [
      "Simulated annealing with 3-swap neighborhood for 10000000 iterations.\n",
      "Execution time: 447.70 seconds \n",
      "\n",
      "Best solution using Hill Climbing: \n",
      " ['PAN', 'MEX', 'HON', 'HAI', 'TRI', 'ECU', 'BOL', 'VEN', 'CAN', 'ICE', 'IRE', 'CZE', 'GRC', 'AUS', 'EST', 'FIN', 'SWD', 'POL', 'NOR', 'GMY', 'HUN', 'SWZ', 'SPN', 'FRN', 'UK', 'POR', 'BRA', 'PAR', 'ARG', 'PER', 'COL', 'COS', 'GUA', 'BLZ', 'BHM', 'CUB']\n",
      "Z best using Hill Climbing:  38932 \n",
      "\n"
     ]
    }
   ],
   "source": [
    "annealing(maxiter=10000000,swap=3, runstatus = False, graph = False)"
   ]
  },
  {
   "cell_type": "markdown",
   "id": "85138a77-ac35-40c4-b7eb-7f85cffe61d7",
   "metadata": {},
   "source": [
    "#### Part 6.1.7 Whether or not 10,000,000 is better?\n",
    "Run with both neighborhoods 100 times for 100,000 iterations with random restarts in between.\n",
    "\n",
    "**Results:**\n",
    "- I ran 2-swap neighborhood.\n",
    "- 100 times with 100,000 iterations: 433s, zbest = 31142\n",
    "- 10,000,000 iterations: 440s, zbest = 33929\n",
    "- It seems like 100 times with 100,000 iterations does better than 10,000,000 iterations."
   ]
  },
  {
   "cell_type": "code",
   "execution_count": 342,
   "id": "93dbb1c2-c3ee-49bf-9509-d977dfc467a9",
   "metadata": {},
   "outputs": [
    {
     "name": "stdout",
     "output_type": "stream",
     "text": [
      "Simulated annealing with 2-swap neighborhood for 100000 iterations.\n",
      "Execution time: 433.59 seconds \n",
      "\n",
      "Best solution using Hill Climbing: \n",
      " ['HAI', 'PAN', 'CUB', 'BHM', 'BLZ', 'MEX', 'GUA', 'HON', 'COS', 'COL', 'ECU', 'PER', 'BOL', 'BRA', 'ARG', 'PAR', 'VEN', 'TRI', 'SPN', 'POR', 'GMY', 'NOR', 'SWD', 'FIN', 'EST', 'POL', 'CZE', 'SWZ', 'HUN', 'GRC', 'AUS', 'UK', 'FRN', 'IRE', 'ICE', 'CAN']\n",
      "Z best using Hill Climbing:  31142 \n",
      "\n"
     ]
    }
   ],
   "source": [
    "annealingwithruns(maxiter=100000, swap=2, runs = 100, runstatus = False, graph = False)"
   ]
  }
 ],
 "metadata": {
  "kernelspec": {
   "display_name": "Python 3 (ipykernel)",
   "language": "python",
   "name": "python3"
  },
  "language_info": {
   "codemirror_mode": {
    "name": "ipython",
    "version": 3
   },
   "file_extension": ".py",
   "mimetype": "text/x-python",
   "name": "python",
   "nbconvert_exporter": "python",
   "pygments_lexer": "ipython3",
   "version": "3.12.4"
  }
 },
 "nbformat": 4,
 "nbformat_minor": 5
}
